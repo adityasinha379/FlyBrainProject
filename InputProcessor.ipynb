{
 "cells": [
  {
   "cell_type": "code",
   "execution_count": 81,
   "metadata": {},
   "outputs": [],
   "source": [
    "import numpy as np\n",
    "\n",
    "# Input: sequence of images: b/w\n",
    "def create_input(l=32,b=48,t=48):\n",
    "    # creates input of shape (t,l,b)\n",
    "    input = np.zeros((t,l,b),dtype=np.bool)\n",
    "    for i in range(t):\n",
    "        input[i,:,(i*l)//t]=True\n",
    "    return input\n",
    "\n",
    "def delay(x,tau,dt):\n",
    "    #print(np.shape(x))\n",
    "    a,t_max = np.shape(x)\n",
    "    output = np.zeros((a,t_max))\n",
    "    for i in range(t_max-1):\n",
    "        output[:,i+1] = x[:,i]+output[:,i]-output[:,i]/tau*dt\n",
    "    return output\n",
    "\n",
    "def medulla(input,tau,dt):\n",
    "    # input from pair of ommatidia to HR detector pair. Shape: (2,t)\n",
    "    _,t=np.shape(input)\n",
    "    output = np.zeros((4,t))\n",
    "\n",
    "    output[0,:] = np.sum(delay(input[0:-1,:],tau['1'],dt)*delay(input[1:,:],tau['b'],dt),0)\n",
    "    output[1,:] = np.sum(delay(input[0:-1,:],tau['b'],dt)*delay(input[1:,:],tau['1'],dt),0)\n",
    "    output[2,:] = np.sum(delay(input[0:-1,:],tau['2'],dt)*delay(input[1:,:],tau['b'],dt),0)\n",
    "    output[3,:] = np.sum(delay(input[0:-1,:],tau['b'],dt)*delay(input[1:,:],tau['2'],dt),0)\n",
    "    #prog_tau\n",
    "    #reg_tau\n",
    "    #tau_s = \n",
    "    return output\n",
    "\n",
    "def lobulla(input):\n",
    "    # input shape: (l*b//2,4,t)\n",
    "    sum_out = np.sum(input, axis=0)\n",
    "    return np.concatenate(([sum_out[0]-sum_out[1]],[sum_out[2]-sum_out[3]]),axis=0)   # shape: (2,t)\n",
    "\n",
    "#def AVDU # TODO Vibhu :)"
   ]
  },
  {
   "cell_type": "code",
   "execution_count": 82,
   "metadata": {},
   "outputs": [
    {
     "name": "stdout",
     "output_type": "stream",
     "text": [
      "(10, 100)\n"
     ]
    },
    {
     "data": {
      "text/plain": [
       "[<matplotlib.lines.Line2D at 0x1fd0350b5f8>,\n",
       " <matplotlib.lines.Line2D at 0x1fd0350b780>,\n",
       " <matplotlib.lines.Line2D at 0x1fd0350b8d0>,\n",
       " <matplotlib.lines.Line2D at 0x1fd0350ba20>]"
      ]
     },
     "execution_count": 82,
     "metadata": {},
     "output_type": "execute_result"
    },
    {
     "data": {
      "image/png": "[encoded data removed]",
      "text/plain": [
       "<Figure size 432x288 with 1 Axes>"
      ]
     },
     "metadata": {
      "needs_background": "light"
     },
     "output_type": "display_data"
    }
   ],
   "source": [
    "x=np.zeros((10,100))\n",
    "x[1,20]=1\n",
    "x[2,30]=1\n",
    "print(np.shape(x))\n",
    "tau={'1':5,'2':10,'b':2}\n",
    "tau['1']=5\n",
    "tau['2']=10\n",
    "tau['b']=2\n",
    "a=medulla(x,tau,0.1)\n",
    "import matplotlib.pyplot as plt\n",
    "#plt.plot(delay(x,10,0.1)[1,:])\n",
    "plt.plot(np.transpose(a))"
   ]
  },
  {
   "cell_type": "code",
   "execution_count": 44,
   "metadata": {},
   "outputs": [
    {
     "data": {
      "text/plain": [
       "(2, 5)"
      ]
     },
     "execution_count": 44,
     "metadata": {},
     "output_type": "execute_result"
    }
   ],
   "source": [
    "np.shape(lobulla(np.zeros((3,4,5))))"
   ]
  }
 ],
 "metadata": {
  "kernelspec": {
   "display_name": "Python 3",
   "language": "python",
   "name": "python3"
  },
  "language_info": {
   "codemirror_mode": {
    "name": "ipython",
    "version": 3
   },
   "file_extension": ".py",
   "mimetype": "text/x-python",
   "name": "python",
   "nbconvert_exporter": "python",
   "pygments_lexer": "ipython3",
   "version": "3.5.6"
  }
 },
 "nbformat": 4,
 "nbformat_minor": 2
}
