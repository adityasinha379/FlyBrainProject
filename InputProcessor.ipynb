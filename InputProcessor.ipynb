{
 "cells": [
  {
   "cell_type": "code",
   "execution_count": 81,
   "metadata": {},
   "outputs": [],
   "source": [
    "import numpy as np\n",
    "\n",
    "# Input: sequence of images: b/w\n",
    "def create_input(l=32,b=48,t=48):\n",
    "    # creates input of shape (t,l,b)\n",
    "    input = np.zeros((t,l,b),dtype=np.bool)\n",
    "    for i in range(t):\n",
    "        input[i,:,(i*l)//t]=True\n",
    "    return input\n",
    "\n",
    "def delay(x,tau,dt):\n",
    "    #print(np.shape(x))\n",
    "    a,t_max = np.shape(x)\n",
    "    output = np.zeros((a,t_max))\n",
    "    for i in range(t_max-1):\n",
    "        output[:,i+1] = x[:,i]+output[:,i]-output[:,i]/tau*dt\n",
    "    return output\n",
    "\n",
    "def medulla(input,tau,dt):\n",
    "    # input from pair of ommatidia to HR detector pair. Shape: (2,t)\n",
    "    _,t=np.shape(input)\n",
    "    output = np.zeros((4,t))\n",
    "\n",
    "    output[0,:] = np.sum(delay(input[0:-1,:],tau['1'],dt)*delay(input[1:,:],tau['b'],dt),0)\n",
    "    output[1,:] = np.sum(delay(input[0:-1,:],tau['b'],dt)*delay(input[1:,:],tau['1'],dt),0)\n",
    "    output[2,:] = np.sum(delay(input[0:-1,:],tau['2'],dt)*delay(input[1:,:],tau['b'],dt),0)\n",
    "    output[3,:] = np.sum(delay(input[0:-1,:],tau['b'],dt)*delay(input[1:,:],tau['2'],dt),0)\n",
    "    #prog_tau\n",
    "    #reg_tau\n",
    "    #tau_s = \n",
    "    return output\n",
    "\n",
    "def lobulla(input):\n",
    "    # input shape: (l*b//2,4,t)\n",
    "    sum_out = np.sum(input, axis=0)\n",
    "    return np.concatenate(([sum_out[0]-sum_out[1]],[sum_out[2]-sum_out[3]]),axis=0)   # shape: (2,t)\n",
    "\n",
    "#def AVDU # TODO Vibhu :)"
   ]
  },
  {
   "cell_type": "code",
   "execution_count": null,
   "metadata": {},
   "outputs": [],
   "source": []
  },
  {
   "cell_type": "code",
   "execution_count": 82,
   "metadata": {},
   "outputs": [
    {
     "name": "stdout",
     "output_type": "stream",
     "text": [
      "(10, 100)\n"
     ]
    },
    {
     "data": {
      "text/plain": [
       "[<matplotlib.lines.Line2D at 0x1fd0350b5f8>,\n",
       " <matplotlib.lines.Line2D at 0x1fd0350b780>,\n",
       " <matplotlib.lines.Line2D at 0x1fd0350b8d0>,\n",
       " <matplotlib.lines.Line2D at 0x1fd0350ba20>]"
      ]
     },
     "execution_count": 82,
     "metadata": {},
     "output_type": "execute_result"
    },
    {
     "data": {
      "image/png": "[encoded data removed]",
      "text/plain": [
       "<Figure size 432x288 with 1 Axes>"
      ]
     },
     "metadata": {
      "needs_background": "light"
     },
     "output_type": "display_data"
    }
   ],
   "source": [
    "x=np.zeros((10,100))\n",
    "x[1,20]=1\n",
    "x[2,30]=1\n",
    "print(np.shape(x))\n",
    "tau={'1':5,'2':10,'b':2}\n",
    "tau['1']=5\n",
    "tau['2']=10\n",
    "tau['b']=2\n",
    "a=medulla(x,tau,0.1)\n",
    "import matplotlib.pyplot as plt\n",
    "#plt.plot(delay(x,10,0.1)[1,:])\n",
    "plt.plot(np.transpose(a))"
   ]
  },
  {
   "cell_type": "code",
   "execution_count": 44,
   "metadata": {},
   "outputs": [
    {
     "data": {
      "text/plain": [
       "(2, 5)"
      ]
     },
     "execution_count": 44,
     "metadata": {},
     "output_type": "execute_result"
    }
   ],
   "source": [
    "np.shape(lobulla(np.zeros((3,4,5))))"
   ]
  },
  {
   "cell_type": "code",
   "execution_count": 178,
   "metadata": {},
   "outputs": [],
   "source": [
    "import numpy as np\n",
    "import matplotlib.pyplot as plt\n",
    "\n",
    "# Input: video - sequence of images: b/w\n",
    "# def create_input(l=32,b=48,t=48):\n",
    "#     # creates input of shape (l,b,t)\n",
    "#     input = np.zeros((l,b,t),dtype=np.bool)\n",
    "#     for i in range(t):\n",
    "#         input[:,(i*l)//t,i]=True\n",
    "#     return input\n",
    "\n",
    "def delay(x,tau):\n",
    "    dt = 0.1\n",
    "    output = np.zeros_like(x)\n",
    "    for i in range(len(x)-1):\n",
    "        output[i+1] = x[i]+output[i]-output[i]/tau*dt\n",
    "    return output\n",
    "\n",
    "def medulla(input,tau):\n",
    "    # input from pair of ommatidia to HR detector pair. Shape: (2,t)\n",
    "    output = np.zeros((4,np.shape(input)[1]))\n",
    "    #print(np.shape(input))\n",
    "    output[0,:] = delay(input[0],tau['1'])*delay(input[1],tau['b'])\n",
    "    output[1,:] = delay(input[0],tau['b'])*delay(input[1],tau['1'])\n",
    "    output[2,:] = delay(input[0],tau['2'])*delay(input[1],tau['b'])\n",
    "    output[3,:] = delay(input[0],tau['b'])*delay(input[1],tau['2'])\n",
    "    \n",
    "    return output  #(4,t)\n",
    "\n",
    "def lobulla(input):\n",
    "    # input shape: (l//2,4,t)\n",
    "    sum_out = np.sum(input, axis=0)     # (4,t)\n",
    "    lob_out = (sum_out[0]-sum_out[1])+(sum_out[2]-sum_out[3]+1e-8) # (1,t)\n",
    "    return sum_out, lob_out\n",
    "\n",
    "def AVDU(sum_out,lob_out,tau):  # sum_out: (4,t), lob_out: (1,t)\n",
    "    avdu_out = np.zeros((2,len(lob_out)))\n",
    "    avdu_out[0] = sum_out[0]/(sum_out[2]+1e-8) - delay(lob_out,tau['s'])       # 1e-8 for stability\n",
    "    avdu_out[1] = sum_out[1]/(sum_out[3]+1e-8) + delay(lob_out,tau['s'])\n",
    "    avdu_out[0] = delay(avdu_out[0],tau['s'])\n",
    "    avdu_out[1] = delay(avdu_out[1],tau['s'])\n",
    "    \n",
    "    return avdu_out\n",
    "\n",
    "def process_input(angular_velocity = 1000):\n",
    "    l = 48\n",
    "    b = 32\n",
    "    dt=1e-5\n",
    "    t_end = 2*360/angular_velocity\n",
    "    t = np.arange(0,t_end,dt)\n",
    "    tau={'1':5,'2':15,'b':1,'s':10}   # in ms\n",
    "    \n",
    "    input = create_input(angular_velocity,t)\n",
    "    med_out = np.zeros((l//2,4,len(t)))\n",
    "    \n",
    "    #for i in range(l):\n",
    "    for j in range(l//2):\n",
    "        #print(j,np.shape(input[i,2*j:2*j+2,:]))\n",
    "        med_out[j,:,:] = b*medulla(input[2*j:2*j+2,:],tau)\n",
    "\n",
    "        #print(input[i,2*j:2*j+2,:])\n",
    "\n",
    "    sum_out, lob_out = lobulla(med_out)   # sum_out for posititional features (landmarks), lob_out for AVDU inputs (motion)\n",
    "    avdu_out = AVDU(sum_out,lob_out,tau)\n",
    "    \n",
    "    pos_out = np.zeros((16,len(t)))\n",
    "    for i in range(0,l,l//16):\n",
    "        #print(i/l*16)\n",
    "        pos_out[int(i/l*16),:] = np.sum(input[i:i+l//16,:],axis=0)\n",
    "    #plt.plot(np.sum(input[l//16:l//16+l//16,:],axis=0))\n",
    "    #plt.plot(pos_out[1,:])\n",
    "    return  pos_out, avdu_out"
   ]
  },
  {
   "cell_type": "code",
   "execution_count": 181,
   "metadata": {},
   "outputs": [],
   "source": [
    "pos_out, avdu_out = process_input(5000)"
   ]
  },
  {
   "cell_type": "code",
   "execution_count": 183,
   "metadata": {},
   "outputs": [
    {
     "data": {
      "text/plain": [
       "[<matplotlib.lines.Line2D at 0x249a25adc50>]"
      ]
     },
     "execution_count": 183,
     "metadata": {},
     "output_type": "execute_result"
    },
    {
     "data": {
      "image/png": "[encoded data removed]",
      "text/plain": [
       "<Figure size 432x288 with 1 Axes>"
      ]
     },
     "metadata": {
      "needs_background": "light"
     },
     "output_type": "display_data"
    }
   ],
   "source": [
    "plt.plot(avdu_out[0,:])\n"
   ]
  },
  {
   "cell_type": "code",
   "execution_count": 160,
   "metadata": {},
   "outputs": [
    {
     "name": "stdout",
     "output_type": "stream",
     "text": [
      "(48, 720)\n"
     ]
    },
    {
     "data": {
      "text/plain": [
       "[<matplotlib.lines.Line2D at 0x249a215e4e0>]"
      ]
     },
     "execution_count": 160,
     "metadata": {},
     "output_type": "execute_result"
    },
    {
     "data": {
      "image/png": "[encoded data removed]",
      "text/plain": [
       "<Figure size 432x288 with 1 Axes>"
      ]
     },
     "metadata": {
      "needs_background": "light"
     },
     "output_type": "display_data"
    }
   ],
   "source": [
    "import numpy as np\n",
    "\n",
    "def create_input(angular_velocity,t, bar_width=11.5,  H=48, V=32, field = 180):\n",
    "    ommatidia_field = field/H\n",
    "    dt = t[1]-t[0]\n",
    "    bar = np.zeros((H,len(t)))\n",
    "    for i in range(H):\n",
    "        bar[i,int(i*(ommatidia_field/angular_velocity)/dt)] = 1\n",
    "        #print(i*(ommatidia_field/angular_velocity)/dt)\n",
    "        #print(i/dt*ommatidia_field/angular_velocity+(bar_width/angular_velocity)/dt)\n",
    "        bar[i,int(i/dt*ommatidia_field/angular_velocity+(bar_width/angular_velocity)/dt)] = 1\n",
    "    return bar\n",
    "angular_velocity = 10000\n",
    "dt=1e-4\n",
    "t_end = 2*360/angular_velocity\n",
    "t = np.arange(0,t_end,dt)\n",
    "a = create_input(angular_velocity,t)\n",
    "#print(a[0,0,:])\n",
    "print(np.shape(a))\n",
    "import matplotlib.pyplot as plt\n",
    "#plt.plot(delay(x,10,0.1)[1,:])\n",
    "plt.plot(np.transpose(a[0,:]))  \n",
    "#plt.plot(np.transpose(a[1,0,:]))\n",
    "#plt.plot(np.transpose(a[2,0,:]))    \n"
   ]
  }
 ],
 "metadata": {
  "kernelspec": {
   "display_name": "Python 3",
   "language": "python",
   "name": "python3"
  },
  "language_info": {
   "codemirror_mode": {
    "name": "ipython",
    "version": 3
   },
   "file_extension": ".py",
   "mimetype": "text/x-python",
   "name": "python",
   "nbconvert_exporter": "python",
   "pygments_lexer": "ipython3",
   "version": "3.5.6"
  }
 },
 "nbformat": 4,
 "nbformat_minor": 2
}
