{
 "cells": [
  {
   "cell_type": "code",
   "execution_count": 50,
   "metadata": {},
   "outputs": [],
   "source": [
    "import numpy as np\n",
    "import matplotlib.pyplot as plt\n",
    "\n",
    "# Input: video - sequence of images: b/w\n",
    "def create_input(l=32,b=48,t=48):\n",
    "    # creates input of shape (l,b,t)\n",
    "    input = np.zeros((l,b,t),dtype=np.bool)\n",
    "    for i in range(t):\n",
    "        input[:,(i*l)//t,i]=True\n",
    "    return input\n",
    "\n",
    "def delay(x,tau):\n",
    "    dt = 0.1\n",
    "    output = np.zeros_like(x)\n",
    "    for i in range(len(x)-1):\n",
    "        output[i+1] = x[i]+output[i]-output[i]/tau*dt\n",
    "    return output\n",
    "\n",
    "def medulla(input,tau):\n",
    "    # input from pair of ommatidia to HR detector pair. Shape: (2,t)\n",
    "    output = np.zeros((4,np.shape(input)[1]))\n",
    "    \n",
    "    output[0,:] = delay(input[0],tau['1'])*delay(input[1],tau['b'])\n",
    "    output[1,:] = delay(input[0],tau['b'])*delay(input[1],tau['1'])\n",
    "    output[2,:] = delay(input[0],tau['2'])*delay(input[1],tau['b'])\n",
    "    output[3,:] = delay(input[0],tau['b'])*delay(input[1],tau['2'])\n",
    "    \n",
    "    return output  #(4,t)\n",
    "\n",
    "def lobulla(input):\n",
    "    # input shape: (l,b//2,4,t)\n",
    "    sum_out = np.sum(np.sum(input, axis=0),axis=0)     # (4,t)\n",
    "    return sum_out, np.concatenate(([sum_out[0]-sum_out[1]],[sum_out[2]-sum_out[3]]),axis=0)   # shape: (2,t)\n",
    "\n",
    "def AVDU(sum_out,lob_out,tau):  # input size: (4,t), lob_out: (2,t)\n",
    "    avdu_out = np.zeros_like(lob_out)\n",
    "    avdu_out[0] = sum_out[0]/(sum_out[2]+1e-8) - delay(lob_out[0],tau['s'])\n",
    "    avdu_out[1] = sum_out[1]/(sum_out[3]+1e-8) + delay(lob_out[1],tau['s'])\n",
    "    avdu_out[0] = delay(avdu_out[0],tau['s'])\n",
    "    avdu_out[1] = delay(avdu_out[1],tau['s'])\n",
    "    \n",
    "    return avdu_out"
   ]
  },
  {
   "cell_type": "code",
   "execution_count": 51,
   "metadata": {},
   "outputs": [],
   "source": [
    "def process_input():\n",
    "    l = 32\n",
    "    b = 48\n",
    "    t = 50\n",
    "    tau={'1':5,'2':15,'b':1,'s':10}   # in ms\n",
    "    \n",
    "    input = create_input(l,b,t)\n",
    "    med_out = np.zeros((l,b//2,4,t))\n",
    "    \n",
    "    for i in range(l):\n",
    "        for j in range(b//2):\n",
    "            med_out[i,j,:,:] = medulla(input[i,2*j:2*j+2,:],tau)\n",
    "    \n",
    "    sum_out, lob_out = lobulla(med_out)   # sum_out for posititional features (landmarks), lob_out for AVDU inputs (motion)\n",
    "    avdu_out = AVDU(sum_out,lob_out,tau)\n",
    "\n",
    "    return sum_out, avdu_out\n",
    "    \n",
    "pos, avdu = process_input()"
   ]
  }
 ],
 "metadata": {
  "kernelspec": {
   "display_name": "Python 3",
   "language": "python",
   "name": "python3"
  },
  "language_info": {
   "codemirror_mode": {
    "name": "ipython",
    "version": 3
   },
   "file_extension": ".py",
   "mimetype": "text/x-python",
   "name": "python",
   "nbconvert_exporter": "python",
   "pygments_lexer": "ipython3",
   "version": "3.6.5"
  }
 },
 "nbformat": 4,
 "nbformat_minor": 2
}
