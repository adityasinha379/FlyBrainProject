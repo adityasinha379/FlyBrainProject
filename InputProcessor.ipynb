{
 "cells": [
  {
   "cell_type": "code",
   "execution_count": 43,
   "metadata": {},
   "outputs": [],
   "source": [
    "import numpy as np\n",
    "\n",
    "# Input: sequence of images: b/w\n",
    "def create_input(l=32,b=48,t=48):\n",
    "    # creates input of shape (t,l,b)\n",
    "    input = np.zeros((t,l,b),dtype=np.bool)\n",
    "    for i in range(t):\n",
    "        input[i,:,(i*l)//t]=True\n",
    "    return input\n",
    "\n",
    "def delay(x,tau):\n",
    "    return np.concatenate((np.zeros(tau),x[tau:]))\n",
    "\n",
    "def medulla(input,tau):\n",
    "    # input from pair of ommatidia to HR detector pair. Shape: (2,t)\n",
    "    output = np.zeros((4,t))\n",
    "    \n",
    "    output[1,:] = delay(input[1,:],tau['1'])*delay(input[2,:],tau['b'])\n",
    "    output[2,:] = delay(input[1,:],tau['b'])*delay(input[2,:],tau['1'])\n",
    "    output[3,:] = delay(input[1,:],tau['2'])*delay(input[2,:],tau['b'])\n",
    "    output[4,:] = delay(input[1,:],tau['b'])*delay(input[2,:],tau['2'])\n",
    "    \n",
    "    return output\n",
    "\n",
    "def lobulla(input):\n",
    "    # input shape: (l*b//2,4,t)\n",
    "    sum_out = np.sum(input, axis=0)\n",
    "    return np.concatenate(([sum_out[0]-sum_out[1]],[sum_out[2]-sum_out[3]]),axis=0)   # shape: (2,t)\n",
    "\n",
    "def AVDU # TODO Vibhu :)"
   ]
  }
 ],
 "metadata": {
  "kernelspec": {
   "display_name": "Python 3",
   "language": "python",
   "name": "python3"
  },
  "language_info": {
   "codemirror_mode": {
    "name": "ipython",
    "version": 3
   },
   "file_extension": ".py",
   "mimetype": "text/x-python",
   "name": "python",
   "nbconvert_exporter": "python",
   "pygments_lexer": "ipython3",
   "version": "3.6.5"
  }
 },
 "nbformat": 4,
 "nbformat_minor": 2
}
